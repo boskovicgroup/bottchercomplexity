{
 "cells": [
  {
   "cell_type": "code",
   "execution_count": 2,
   "metadata": {
    "autoscroll": false,
    "collapsed": false,
    "ein.hycell": false,
    "ein.tags": "worksheet-0",
    "slideshow": {
     "slide_type": "-"
    }
   },
   "outputs": [],
   "source": [
    "def GetBottcherComplexity(themol,debug=False):\n",
    "    complexity = 0\n",
    "    Chem.AssignStereochemistry(themol,cleanIt=True,force=True,flagPossibleStereoCenters=True)\n",
    "    atoms = themol.GetAtoms();\n",
    "    atom_stereo_classes = []\n",
    "    atoms_corrected_for_symmetry = []\n",
    "    for atom in atoms:\n",
    "        if atom.GetProp('_CIPRank') in atom_stereo_classes:\n",
    "            continue\n",
    "        else:\n",
    "            atoms_corrected_for_symmetry.append(atom)\n",
    "            atom_stereo_classes.append(atom.GetProp('_CIPRank'))\n",
    "    for atom in atoms_corrected_for_symmetry:\n",
    "        d = GetChemicalNonequivs(atom, themol)\n",
    "        e = GetBottcherLocalDiversity(atom)\n",
    "        s = GetNumIsomericPossibilities(atom)\n",
    "        V = GetNumValenceElectrons(atom)\n",
    "        b = GetBottcherBondIndex(atom)\n",
    "        complexity += d*e*s*math.log(V*b,2)\n",
    "        if debug:\n",
    "            PrintDebugInfo(str(atom.GetSymbol()), str(atom.GetProp('_CIPRank')), d, e, s, V, b)\n",
    "    if debug:\n",
    "        print('Current Complexity Score: ' + str(complexity))\n",
    "        return\n",
    "    return complexity"
   ]
  },
  {
   "cell_type": "code",
   "execution_count": 3,
   "metadata": {
    "autoscroll": false,
    "collapsed": false,
    "ein.hycell": false,
    "ein.tags": "worksheet-0",
    "slideshow": {
     "slide_type": "-"
    }
   },
   "outputs": [
    {
     "name": "stdout",
     "output_type": "stream",
     "text": [
      "Hello, World!!!!\n"
     ]
    }
   ],
   "source": [
    "print(\"Hello, World!!!!\")"
   ]
  },
  {
   "cell_type": "code",
   "execution_count": 4,
   "metadata": {
    "autoscroll": false,
    "collapsed": false,
    "ein.hycell": false,
    "ein.tags": "worksheet-0",
    "slideshow": {
     "slide_type": "-"
    }
   },
   "outputs": [],
   "source": [
    "from __future__ import print_function\n",
    "import csv\n",
    "import importlib.util\n",
    "import math\n",
    "import os\n",
    "import sys\n",
    "import seaborn\n",
    "from rdkit import Chem\n",
    "from rdkit.Chem import Draw\n",
    "from rdkit.Chem.Draw import DrawingOptions\n",
    "from rdkit.Chem import AllChem\n",
    "from rdkit.Chem.Draw import IPythonConsole\n",
    "from rdkit.Chem import RDConfig\n",
    "sys.path.append(os.path.join(RDConfig.RDContribDir,'ChiralPairs'))\n",
    "import ChiralDescriptors"
   ]
  },
  {
   "cell_type": "code",
   "execution_count": 5,
   "metadata": {
    "autoscroll": false,
    "collapsed": false,
    "ein.hycell": false,
    "ein.tags": "worksheet-0",
    "slideshow": {
     "slide_type": "-"
    }
   },
   "outputs": [],
   "source": [
    "# D\n",
    "#\n",
    "# Thursday, 12 September 2019: Implemented atom-label-list based comparison.\n",
    "# Current failures: Does not distinguish between cyclopentyl and pentyl (etc.)\n",
    "#                   and so unfairly underestimates complexity. \n",
    "#\n",
    "# TODO: Implement logic to determine e.g. whether repeats of CCCCC are cyclopentyl and pentyl or two of either\n",
    "def GetChemicalNonequivs(atom, themol):\n",
    "    num_unique_substituents = 0\n",
    "    substituents = [[],[],[],[]]\n",
    "    for item,key in enumerate(ChiralDescriptors.determineAtomSubstituents(atom.GetIdx(), themol, Chem.GetDistanceMatrix(themol))[0]):\n",
    "        for subatom in ChiralDescriptors.determineAtomSubstituents(atom.GetIdx(), themol, Chem.GetDistanceMatrix(themol))[0][key]:\n",
    "            substituents[item].append(themol.GetAtomWithIdx(subatom).GetSymbol())\n",
    "    ###\n",
    "    # Logic to determine e.g. whether repeats of CCCCC are cyclopentyl and pentyl or two of either\n",
    "    #\n",
    "    #\n",
    "    num_unique_substituents = len(set(tuple(tuple(substituent) for substituent in substituents if substituent)))\n",
    "    return num_unique_substituents"
   ]
  },
  {
   "cell_type": "code",
   "execution_count": 6,
   "metadata": {
    "autoscroll": false,
    "collapsed": false,
    "ein.hycell": false,
    "ein.tags": "worksheet-0",
    "slideshow": {
     "slide_type": "-"
    }
   },
   "outputs": [],
   "source": [
    "def CompareAtoms(atom1, atom2):\n",
    "    if(atom1 == atom2):\n",
    "        return True\n",
    "    return False\n",
    "\n",
    "def CompareListsOfAtoms(list1, list2):\n",
    "    if (len(list1) != len(list2)):\n",
    "        return False\n",
    "    return True\n",
    "\n",
    "def GetChemicalNonequivsNew(atom, themol):\n",
    "    num_unique_substituents = 0\n",
    "    # 8 should do; I don't know of an atom with more bonds than Rhenium in [Re_{2}Cl_{8}]^{2-}\n",
    "    substituents = [[],[],[],[],[],[],[],[]]\n",
    "    substituents_just_atom_labels = [[],[],[],[],[],[],[],[]]\n",
    "    for item,key in enumerate(ChiralDescriptors.determineAtomSubstituents(atom.GetIdx(), themol, Chem.GetDistanceMatrix(themol))[0]):\n",
    "        for subatom in ChiralDescriptors.determineAtomSubstituents(atom.GetIdx(), themol, Chem.GetDistanceMatrix(themol))[0][key]:\n",
    "            substituents[item].append(themol.GetAtomWithIdx(subatom))\n",
    "            substituents_just_atom_labels[item].append(themol.GetAtomWithIdx(subatom).GetSymbol())\n",
    "    # At this point in the program we have the four-membered list of substituents.\n",
    "    # If the chains are of different lengths then it is impossible for them to be chemically equivalent.\n",
    "    # Therefore, our first hack will be to check the number of unique substituents and their lengths against each other.\n",
    "    # But let's rearrange the list so that we have only the substituents that actually exist -- the rest are hydrogen. \n",
    "    num_unique_substituents = len(set(tuple(tuple(substituent) for substituent in substituents_just_atom_labels if substituent)))\n",
    "    return num_unique_substituents\n"
   ]
  },
  {
   "cell_type": "code",
   "execution_count": 7,
   "metadata": {
    "autoscroll": false,
    "collapsed": false,
    "ein.hycell": false,
    "ein.tags": "worksheet-0",
    "slideshow": {
     "slide_type": "-"
    }
   },
   "outputs": [],
   "source": [
    "# E\n",
    "#\n",
    "# The number of different non-hydrogen elements or isotopes (including deuterium\n",
    "# and tritium) in the atom's microenvironment.\n",
    "#\n",
    "# CH4 - the carbon has e_i of 1\n",
    "# Carbonyl carbon of an amide e.g. CC(=O)N e_i = 3\n",
    "#     while N and O have e_i = 2\n",
    "#\n",
    "def GetBottcherLocalDiversity(atom):\n",
    "    neighbors = []\n",
    "    for neighbor in atom.GetNeighbors():\n",
    "        neighbors.append(str(neighbor.GetSymbol()))\n",
    "    if atom.GetSymbol() in set(neighbors):\n",
    "        return len(set(neighbors))\n",
    "    else:\n",
    "        return len(set(neighbors))+1"
   ]
  },
  {
   "cell_type": "code",
   "execution_count": 8,
   "metadata": {
    "autoscroll": false,
    "collapsed": false,
    "ein.hycell": false,
    "ein.tags": "worksheet-0",
    "slideshow": {
     "slide_type": "-"
    }
   },
   "outputs": [],
   "source": [
    "# S\n",
    "#\n",
    "# \n",
    "def GetNumIsomericPossibilities(atom):\n",
    "    try:\n",
    "        if(atom.GetProp('_CIPCode')):\n",
    "            return 2\n",
    "    except:\n",
    "        return 1"
   ]
  },
  {
   "cell_type": "code",
   "execution_count": 9,
   "metadata": {
    "autoscroll": false,
    "collapsed": false,
    "ein.hycell": false,
    "ein.tags": "worksheet-0",
    "slideshow": {
     "slide_type": "-"
    }
   },
   "outputs": [],
   "source": [
    "# V\n",
    "#\n",
    "# The number of valence electrons the atom would have if it were unbonded and \n",
    "# neutral \n",
    "#\n",
    "def GetNumValenceElectrons(atom):\n",
    "    valence = {1: ['H', 'Li', 'Na', 'K', 'Rb', 'Cs', 'Fr'], # Alkali Metals\n",
    "               2: ['Be', 'Mg', 'Ca', 'Sr', 'Ba', 'Ra'], # Alkali Earth Metals\n",
    "               #transition metals???\n",
    "               3: ['B', 'Al', 'Ga', 'In', 'Tl', 'Nh'], #\n",
    "               4: ['C', 'Si', 'Ge', 'Sn', 'Pb', 'Fl'], \n",
    "               5: ['N', 'P', 'As', 'Sb', 'Bi', 'Mc'], # Pnictogens\n",
    "               6: ['O', 'S', 'Se', 'Te', 'Po', 'Lv'], # Chalcogens\n",
    "               7: ['F', 'Cl', 'Br', 'I', 'At', 'Ts'], # Halogens\n",
    "               8: ['He', 'Ne', 'Ar', 'Kr', 'Xe', 'Rn', 'Og']} # Noble Gases\n",
    "    for k in valence:\n",
    "        if atom.GetSymbol() in valence[k]:\n",
    "            return k\n",
    "    return 0"
   ]
  },
  {
   "cell_type": "code",
   "execution_count": 10,
   "metadata": {
    "autoscroll": false,
    "collapsed": false,
    "ein.hycell": false,
    "ein.tags": "worksheet-0",
    "slideshow": {
     "slide_type": "-"
    }
   },
   "outputs": [],
   "source": [
    "valence = {'alkali': ['H', 'Li', 'Na', 'K', 'Rb', 'Cs', 'Fr'], # Alkali Metals\n",
    "           'alkali_e': ['Be', 'Mg', 'Ca', 'Sr', 'Ba', 'Ra'], # Alkali Earth Metals\n",
    "           #transition metals???\n",
    "           3: ['B', 'Al', 'Ga', 'In', 'Tl', 'Nh'], #\n",
    "           4: ['C', 'Si', 'Ge', 'Sn', 'Pb', 'Fl'], \n",
    "           5: ['N', 'P', 'As', 'Sb', 'Bi', 'Mc'], # Pnictogens\n",
    "           6: ['O', 'S', 'Se', 'Te', 'Po', 'Lv'], # Chalcogens\n",
    "           7: ['F', 'Cl', 'Br', 'I', 'At', 'Ts'], # Halogens\n",
    "           8: ['He', 'Ne', 'Ar', 'Kr', 'Xe', 'Rn', 'Og']} # Noble Gases\n"
   ]
  },
  {
   "cell_type": "code",
   "execution_count": 11,
   "metadata": {
    "autoscroll": false,
    "collapsed": false,
    "ein.hycell": false,
    "ein.tags": "worksheet-0",
    "slideshow": {
     "slide_type": "-"
    }
   },
   "outputs": [
    {
     "data": {
      "text/plain": [
       "'Sr'"
      ]
     },
     "execution_count": 11,
     "metadata": {},
     "output_type": "execute_result"
    }
   ],
   "source": [
    "valence['alkali_e'][3]"
   ]
  },
  {
   "cell_type": "code",
   "execution_count": 12,
   "metadata": {
    "autoscroll": false,
    "collapsed": false,
    "ein.hycell": false,
    "ein.tags": "worksheet-0",
    "slideshow": {
     "slide_type": "-"
    }
   },
   "outputs": [],
   "source": [
    "# B\n",
    "#\n",
    "# Represents the total number of bonds to other atoms with V_i*b_i > 1, so\n",
    "# basically bonds to atoms other than Hydrogen\n",
    "#\n",
    "# Here we can leverage the fact that RDKit does not even report Hydrogens by\n",
    "# default to simply loop over the bonds. We will have to account for molecules\n",
    "# that have hydrogens turned on before we can submit this code as a patch\n",
    "# though. \n",
    "def GetBottcherBondIndex(atom):\n",
    "    b_sub_i_ranking = 0\n",
    "    bonds = []\n",
    "    for bond in atom.GetBonds():\n",
    "        bonds.append(str(bond.GetBondType()))\n",
    "    for bond in bonds:\n",
    "        if bond == 'SINGLE':\n",
    "            b_sub_i_ranking += 1\n",
    "        if bond == 'DOUBLE':\n",
    "            b_sub_i_ranking += 2\n",
    "        if bond == 'TRIPLE':\n",
    "            b_sub_i_ranking += 3\n",
    "    if 'AROMATIC' in bonds:\n",
    "        # This list can be expanded as errors arise.\n",
    "        if atom.GetSymbol() == 'C':\n",
    "            b_sub_i_ranking += 3\n",
    "        elif atom.GetSymbol() == 'N':\n",
    "            b_sub_i_ranking += 2\n",
    "    return b_sub_i_ranking"
   ]
  },
  {
   "cell_type": "code",
   "execution_count": 13,
   "metadata": {
    "autoscroll": false,
    "collapsed": false,
    "ein.hycell": false,
    "ein.tags": "worksheet-0",
    "slideshow": {
     "slide_type": "-"
    }
   },
   "outputs": [],
   "source": [
    "def PrintDebugInfo(symbol, symmetry, d_i, e_i, s_i, V_i, b_i):\n",
    "    print(symbol)\n",
    "    print('\\tSymmetry Class: ' + symmetry)\n",
    "    #print('\\tNeighbors: ')\n",
    "    #print('\\tBonds: ')\n",
    "    print('\\tCurrent Parameter Values:')\n",
    "    print('\\t\\td_sub_i: ' + str(d_i))\n",
    "    print('\\t\\te_sub_i: ' + str(e_i))\n",
    "    print('\\t\\ts_sub_i: ' + str(s_i))\n",
    "    print('\\t\\tV_sub_i: ' + str(V_i))\n",
    "    print('\\t\\tb_sub_i: ' + str(b_i))\n",
    "\n"
   ]
  },
  {
   "cell_type": "code",
   "execution_count": 14,
   "metadata": {
    "autoscroll": false,
    "collapsed": false,
    "ein.hycell": false,
    "ein.tags": "worksheet-0",
    "slideshow": {
     "slide_type": "-"
    }
   },
   "outputs": [],
   "source": [
    "def remove_values_from_list(the_list, val):\n",
    "   return [value for value in the_list if value != val]\n",
    "\n",
    "def GetTheAtoms(themol, symmetries, halflings=False):\n",
    "    ###\n",
    "    # How many times is each _CIPRank represented in each molecule?\n",
    "    #\n",
    "    # Cyclohexane/Benzene: 0 is represented 6 times\n",
    "    #                      0 should be triple counted\n",
    "    # Cyclopropane: 0 is represented 5 times\n",
    "    #               0 should be double counted\n",
    "    #               Then one more divided by 1/2\n",
    "    #\n",
    "    # and so on and so on\n",
    "    #\n",
    "    # We calculate the number of CIPCodes for each molecule in the main function\n",
    "    # and then pass it in to this one.\n",
    "    #\n",
    "    ###\n",
    "    # Then, we need to see what the count is for each CIPCode and adjust\n",
    "    #\n",
    "    # Say our count of _CIPCode 0 is six, then we need to append that atom\n",
    "    # to compute_full_complexity three times.\n",
    "    #\n",
    "    # If it is five, we need to append to compute_full_complexity twice and\n",
    "    # compute_half_complexity once.\n",
    "    #\n",
    "    # In both cases, we need to remove their CIPCode frem the list of CIPcodes\n",
    "    # so that no other atom with that CIPCode gets counted.\n",
    "    #\n",
    "    # We leverage the fact that each atom with the same CIPCode is by def. the\n",
    "    # same to accomplish this.\n",
    "    #\n",
    "    compute_full_complexity = []\n",
    "    compute_half_complexity = []\n",
    "    for atom in themol.GetAtoms():\n",
    "        number_of_occurrences = symmetries.count(atom.GetProp('_CIPRank'))\n",
    "        if number_of_occurrences == 1 : \n",
    "            compute_full_complexity.append(atom)\n",
    "            continue;\n",
    "        else:\n",
    "            number_of_times_full = number_of_occurrences // 2;\n",
    "            number_of_times_half = number_of_occurrences % 2;\n",
    "            for i in range(0,number_of_times_full):\n",
    "                compute_full_complexity.append(atom)\n",
    "            for i in range(0,number_of_times_half):\n",
    "                compute_half_complexity.append(atom)\n",
    "            symmetries = remove_values_from_list(symmetries, atom.GetProp('_CIPRank'))\n",
    "            continue;\n",
    "\n",
    "    if halflings:\n",
    "        return compute_half_complexity\n",
    "    else:\n",
    "        return compute_full_complexity"
   ]
  },
  {
   "cell_type": "code",
   "execution_count": 15,
   "metadata": {
    "autoscroll": false,
    "collapsed": false,
    "ein.hycell": false,
    "ein.tags": "worksheet-0",
    "slideshow": {
     "slide_type": "-"
    }
   },
   "outputs": [],
   "source": [
    "def GetBottcherComplexityFixSymmetry(themol,debug=False):\n",
    "    complexity = 0\n",
    "    ## Assign CIPCodes to each atom in the molecule\n",
    "    Chem.AssignStereochemistry(themol,cleanIt=True,force=True,flagPossibleStereoCenters=True)\n",
    "    ## Append each atom's CIPCode to a list\n",
    "    CIPCodes = []\n",
    "    for atom in themol.GetAtoms():\n",
    "        CIPCodes.append(atom.GetProp('_CIPRank'))\n",
    "    atoms = GetTheAtoms(themol, CIPCodes)\n",
    "    half_atoms = GetTheAtoms(themol, CIPCodes, True)\n",
    "    if debug:\n",
    "        print(\"FULL ATOMS\")\n",
    "    for atom in atoms:\n",
    "        d = GetChemicalNonequivsNew(atom, themol)\n",
    "        e = GetBottcherLocalDiversity(atom)\n",
    "        s = GetNumIsomericPossibilities(atom)\n",
    "        V = GetNumValenceElectrons(atom)\n",
    "        b = GetBottcherBondIndex(atom)\n",
    "        complexity += d*e*s*math.log(V*b,2)\n",
    "        if debug:\n",
    "            PrintDebugInfo(str(atom.GetSymbol()), str(atom.GetProp('_CIPRank')), d, e, s, V, b)\n",
    "    if half_atoms:\n",
    "        if debug:\n",
    "            print(\"HALF ATOMS\")\n",
    "        for atom in half_atoms:\n",
    "            d = GetChemicalNonequivsNew(atom, themol)\n",
    "            e = GetBottcherLocalDiversity(atom)\n",
    "            s = GetNumIsomericPossibilities(atom)\n",
    "            V = GetNumValenceElectrons(atom)\n",
    "            b = GetBottcherBondIndex(atom)\n",
    "            complexity += (d*e*s*math.log(V*b,2)/2)\n",
    "            if debug:\n",
    "                PrintDebugInfo(str(atom.GetSymbol()), str(atom.GetProp('_CIPRank')), d, e, s, V, b)\n",
    "    if debug:\n",
    "        print('Current Complexity Score: ' + str(complexity))\n",
    "        return\n",
    "    return complexity"
   ]
  },
  {
   "cell_type": "code",
   "execution_count": 23,
   "metadata": {
    "autoscroll": false,
    "collapsed": false,
    "ein.hycell": false,
    "ein.tags": "worksheet-0",
    "slideshow": {
     "slide_type": "-"
    }
   },
   "outputs": [
    {
     "name": "stdout",
     "output_type": "stream",
     "text": [
      "0\n",
      "SINGLE\n",
      "1\n",
      "SINGLE\n",
      "AROMATIC\n",
      "AROMATIC\n",
      "2\n",
      "AROMATIC\n",
      "AROMATIC\n",
      "3\n",
      "AROMATIC\n",
      "AROMATIC\n",
      "4\n",
      "AROMATIC\n",
      "AROMATIC\n",
      "SINGLE\n",
      "5\n",
      "AROMATIC\n",
      "AROMATIC\n",
      "6\n",
      "AROMATIC\n",
      "AROMATIC\n",
      "7\n",
      "SINGLE\n"
     ]
    }
   ],
   "source": [
    "xylene = Chem.MolFromSmiles('CC1=CC=C(C=C1)C')\n",
    "for index, atom in enumerate(xylene.GetAtoms()):\n",
    "    print(index)\n",
    "    for bond in atom.GetBonds():\n",
    "        print(bond.GetBondType())\n"
   ]
  },
  {
   "cell_type": "code",
   "execution_count": 16,
   "metadata": {
    "autoscroll": false,
    "collapsed": false,
    "ein.hycell": false,
    "ein.tags": "worksheet-0",
    "slideshow": {
     "slide_type": "-"
    }
   },
   "outputs": [
    {
     "name": "stdout",
     "output_type": "stream",
     "text": [
      "FULL ATOMS\n",
      "C\n",
      "\tSymmetry Class: 0\n",
      "\tCurrent Parameter Values:\n",
      "\t\td_sub_i: 1\n",
      "\t\te_sub_i: 1\n",
      "\t\ts_sub_i: 1\n",
      "\t\tV_sub_i: 4\n",
      "\t\tb_sub_i: 1\n",
      "C\n",
      "\tSymmetry Class: 1\n",
      "\tCurrent Parameter Values:\n",
      "\t\td_sub_i: 1\n",
      "\t\te_sub_i: 1\n",
      "\t\ts_sub_i: 1\n",
      "\t\tV_sub_i: 4\n",
      "\t\tb_sub_i: 2\n",
      "Current Complexity Score: 5.0\n"
     ]
    }
   ],
   "source": [
    "GetBottcherComplexityFixSymmetry(Chem.MolFromSmiles('CCC'),True)"
   ]
  },
  {
   "cell_type": "code",
   "execution_count": 17,
   "metadata": {
    "autoscroll": false,
    "collapsed": false,
    "ein.hycell": false,
    "ein.tags": "worksheet-0",
    "slideshow": {
     "slide_type": "-"
    }
   },
   "outputs": [
    {
     "name": "stdout",
     "output_type": "stream",
     "text": [
      "FULL ATOMS\n",
      "C\n",
      "\tSymmetry Class: 0\n",
      "\tCurrent Parameter Values:\n",
      "\t\td_sub_i: 1\n",
      "\t\te_sub_i: 1\n",
      "\t\ts_sub_i: 1\n",
      "\t\tV_sub_i: 4\n",
      "\t\tb_sub_i: 2\n",
      "C\n",
      "\tSymmetry Class: 0\n",
      "\tCurrent Parameter Values:\n",
      "\t\td_sub_i: 1\n",
      "\t\te_sub_i: 1\n",
      "\t\ts_sub_i: 1\n",
      "\t\tV_sub_i: 4\n",
      "\t\tb_sub_i: 2\n",
      "HALF ATOMS\n",
      "C\n",
      "\tSymmetry Class: 0\n",
      "\tCurrent Parameter Values:\n",
      "\t\td_sub_i: 1\n",
      "\t\te_sub_i: 1\n",
      "\t\ts_sub_i: 1\n",
      "\t\tV_sub_i: 4\n",
      "\t\tb_sub_i: 2\n",
      "Current Complexity Score: 7.5\n"
     ]
    }
   ],
   "source": [
    "GetBottcherComplexityFixSymmetry(Chem.MolFromSmiles('C1CCCC1'),True)"
   ]
  },
  {
   "cell_type": "code",
   "execution_count": 18,
   "metadata": {
    "autoscroll": false,
    "collapsed": false,
    "ein.hycell": false,
    "ein.tags": "worksheet-0",
    "slideshow": {
     "slide_type": "-"
    }
   },
   "outputs": [
    {
     "name": "stdout",
     "output_type": "stream",
     "text": [
      "Testing Molecules on Supplementary Materials Page 3\n",
      "\tBenzene: \u001b[1;32;40m PASSED \u001b[0m\n",
      "\tToluene: \u001b[1;32;40m PASSED \u001b[0m\n",
      "\tPyridine: \u001b[1;31;40m FAILED \u001b[0m\n",
      "\t\tCurrent: 31.74 Reference: 32.91\n",
      "\tPyrrole: \u001b[1;32;40m PASSED \u001b[0m\n",
      "\tAzete: \u001b[1;31;40m FAILED \u001b[0m\n",
      "\t\tCurrent: 40.08 Reference: 25.7\n",
      "\t1H-Azirine: \u001b[1;32;40m PASSED \u001b[0m\n",
      "\tChlorobenzene: \u001b[1;32;40m PASSED \u001b[0m\n",
      "\tBromobenzene: \u001b[1;32;40m PASSED \u001b[0m\n",
      "\t1,2-dibromobenzene: \u001b[1;32;40m PASSED \u001b[0m\n",
      "\t1,3-dibromobenzene: \u001b[1;32;40m PASSED \u001b[0m\n",
      "\t1,4-dibromobenzene: \u001b[1;32;40m PASSED \u001b[0m\n",
      "\t1,2-dimethylbenzene (orthoxylene): \u001b[1;32;40m PASSED \u001b[0m\n",
      "\t1,3-dimethylbenzene (metaxylene): \u001b[1;32;40m PASSED \u001b[0m\n",
      "\t1,4-dimethylbenzene (paraxylene): \u001b[1;31;40m FAILED \u001b[0m\n",
      "\t\tCurrent: 17.17 Reference: 24.34\n",
      "\t1-bromo-2-chlorobenzene: \u001b[1;32;40m PASSED \u001b[0m\n",
      "\t1-bromo-3-chlorobenzene: \u001b[1;32;40m PASSED \u001b[0m\n",
      "\t1-bromo-4-chlorobenzene: \u001b[1;32;40m PASSED \u001b[0m\n",
      "\n",
      "Testing Molecules on Supplementary Materials Page 4\n",
      "\t2-methylbutane: \u001b[1;32;40m PASSED \u001b[0m\n",
      "\tPentane: \u001b[1;32;40m PASSED \u001b[0m\n",
      "\t2,2-dimethylpropane: \u001b[1;32;40m PASSED \u001b[0m\n",
      "\tCyclopentane: \u001b[1;32;40m PASSED \u001b[0m\n",
      "\tethylcyclopropane: \u001b[1;32;40m PASSED \u001b[0m\n",
      "\tmethylcyclobutane: \u001b[1;32;40m PASSED \u001b[0m\n",
      "\t1,2-dimethylcyclopropane: \u001b[1;31;40m FAILED \u001b[0m\n",
      "\t\tCurrent: 12.17 Reference: 15.75\n",
      "\t1,1-dimethylpropane: \u001b[1;31;40m FAILED \u001b[0m\n",
      "\t\tCurrent: 17.17 Reference: 16.0\n",
      "\tBicyclo[2.1.0]pentane (housane): \u001b[1;31;40m FAILED \u001b[0m\n",
      "\t\tCurrent: 16.17 Reference: 19.75\n",
      "\n",
      "Testing Molecules on Supplementary Materials Page 5\n",
      "\tEthane: \u001b[1;32;40m PASSED \u001b[0m\n",
      "\tPropane: \u001b[1;32;40m PASSED \u001b[0m\n",
      "\tButane: \u001b[1;32;40m PASSED \u001b[0m\n",
      "\t2-methylpropane: \u001b[1;32;40m PASSED \u001b[0m\n",
      "\t2-methylpentane: \u001b[1;32;40m PASSED \u001b[0m\n",
      "\t2,2-dimethylbutane: \u001b[1;32;40m PASSED \u001b[0m\n",
      "\t3-methylpentane: \u001b[1;32;40m PASSED \u001b[0m\n",
      "\tHexane: \u001b[1;32;40m PASSED \u001b[0m\n",
      "\t2,3-dimethylbutane: \u001b[1;32;40m PASSED \u001b[0m\n",
      "\t2,3-dimethylpentane: \u001b[1;31;40m FAILED \u001b[0m\n",
      "\t\tCurrent: 29.92 Reference: 46.26\n",
      "\t3-methylhexane: \u001b[1;31;40m FAILED \u001b[0m\n",
      "\t\tCurrent: 34.75 Reference: 45.51\n",
      "\t2-methylhexane: \u001b[1;31;40m FAILED \u001b[0m\n",
      "\t\tCurrent: 26.17 Reference: 29.17\n",
      "\t2,2-dimethylpentane: \u001b[1;32;40m PASSED \u001b[0m\n",
      "\t2,2,3-trimethylpentane: \u001b[1;31;40m FAILED \u001b[0m\n",
      "\t\tCurrent: 31.75 Reference: 20.17\n",
      "\t3,3-dimethylpentane: \u001b[1;32;40m PASSED \u001b[0m\n",
      "\tHeptane: \u001b[1;32;40m PASSED \u001b[0m\n",
      "\t3-ethylpentane: \u001b[1;32;40m PASSED \u001b[0m\n",
      "\t2,4-dimethylpentane: \u001b[1;32;40m PASSED \u001b[0m\n",
      "\n",
      "Testing Molecules on Supplementary Materials Page 6\n",
      "\tEthylene: \u001b[1;32;40m PASSED \u001b[0m\n",
      "\tPropylene: \u001b[1;31;40m FAILED \u001b[0m\n",
      "\t\tCurrent: 8.58 Reference: 12.17\n",
      "\t1-butene: \u001b[1;32;40m PASSED \u001b[0m\n",
      "\tMethanol: \u001b[1;32;40m PASSED \u001b[0m\n",
      "\tEthanol: \u001b[1;32;40m PASSED \u001b[0m\n",
      "\t1-propanol: \u001b[1;32;40m PASSED \u001b[0m\n",
      "\t2-propanol: \u001b[1;32;40m PASSED \u001b[0m\n",
      "\tAcetone: \u001b[1;32;40m PASSED \u001b[0m\n",
      "\tAcetaldehyde: \u001b[1;32;40m PASSED \u001b[0m\n",
      "\tPropanal: \u001b[1;32;40m PASSED \u001b[0m\n",
      "\tDimethyl Ether: \u001b[1;32;40m PASSED \u001b[0m\n",
      "\tAcetylene: \u001b[1;32;40m PASSED \u001b[0m\n",
      "\n",
      "Testing Molecules on Supplementary Materials Page 7\n",
      "\t2-methylheptane: \u001b[1;31;40m FAILED \u001b[0m\n",
      "\t\tCurrent: 40.75 Reference: 51.51\n",
      "\t3-methylheptane: \u001b[1;32;40m PASSED \u001b[0m\n",
      "\t2,2-dimethylhexane: \u001b[1;32;40m PASSED \u001b[0m\n",
      "\t3-ethylhexane: \u001b[1;32;40m PASSED \u001b[0m\n",
      "\t3-methylheptane: \u001b[1;32;40m PASSED \u001b[0m\n",
      "\tOctane: \u001b[1;32;40m PASSED \u001b[0m\n",
      "\t2,5-dimethylhexane: \u001b[1;32;40m PASSED \u001b[0m\n",
      "\t2,2,3,3-tetramethylbutane: \u001b[1;32;40m PASSED \u001b[0m\n",
      "\n",
      "Testing Molecules on Supplementary Materials Page 8\n",
      "\tAlanine: \u001b[1;31;40m FAILED \u001b[0m\n",
      "\t\tCurrent: 78.0 Reference: 72.0\n",
      "\tArginine: \u001b[1;31;40m FAILED \u001b[0m\n",
      "\t\tCurrent: 136.27 Reference: 129.65\n",
      "\tAsparagine: \u001b[1;31;40m FAILED \u001b[0m\n",
      "\t\tCurrent: 129.82 Reference: 123.82\n",
      "\tAspartate: \u001b[1;31;40m FAILED \u001b[0m\n",
      "\t\tCurrent: 110.34 Reference: 98.34\n",
      "\tCystine: \u001b[1;31;40m FAILED \u001b[0m\n",
      "\t\tCurrent: 80.83 Reference: 87.17\n",
      "\tGlutamine: \u001b[1;31;40m FAILED \u001b[0m\n",
      "\t\tCurrent: 135.82 Reference: 129.82\n",
      "\tGlutamate: \u001b[1;31;40m FAILED \u001b[0m\n",
      "\t\tCurrent: 116.34 Reference: 104.34\n",
      "\tGlycine: \u001b[1;31;40m FAILED \u001b[0m\n",
      "\t\tCurrent: 44.98 Reference: 38.98\n",
      "\tHistidine: \u001b[1;31;40m FAILED \u001b[0m\n",
      "\t\tCurrent: 161.26 Reference: 157.83\n",
      "\tIsoleucine: \u001b[1;31;40m FAILED \u001b[0m\n",
      "\t\tCurrent: 107.51 Reference: 101.51\n",
      "\tLeucine: \u001b[1;31;40m FAILED \u001b[0m\n",
      "\t\tCurrent: 91.17 Reference: 90.76\n",
      "\tLysine: \u001b[1;31;40m FAILED \u001b[0m\n",
      "\t\tCurrent: 110.65 Reference: 104.65\n",
      "\tMethionine: \u001b[1;31;40m FAILED \u001b[0m\n",
      "\t\tCurrent: 112.34 Reference: 106.34\n",
      "\tPhenylalanine: \u001b[1;31;40m FAILED \u001b[0m\n",
      "\t\tCurrent: 107.93 Reference: 101.93\n",
      "\tProline: \u001b[1;31;40m FAILED \u001b[0m\n",
      "\t\tCurrent: 87.14 Reference: 104.16\n",
      "\tSerine: \u001b[1;31;40m FAILED \u001b[0m\n",
      "\t\tCurrent: 93.17 Reference: 87.17\n",
      "\tThreonine: \u001b[1;31;40m FAILED \u001b[0m\n",
      "\t\tCurrent: 126.19 Reference: 120.19\n",
      "\tTryptophan: \u001b[1;31;40m FAILED \u001b[0m\n",
      "\t\tCurrent: 182.58 Reference: 180.31\n",
      "\tTyrosine: \u001b[1;31;40m FAILED \u001b[0m\n",
      "\t\tCurrent: 125.51 Reference: 119.51\n",
      "\tValine: \u001b[1;31;40m FAILED \u001b[0m\n",
      "\t\tCurrent: 85.17 Reference: 84.76\n",
      "\tHexanoic Acid: \u001b[1;31;40m FAILED \u001b[0m\n",
      "\t\tCurrent: 54.34 Reference: 48.34\n",
      "\tOctanoic Acid: \u001b[1;31;40m FAILED \u001b[0m\n",
      "\t\tCurrent: 66.34 Reference: 60.34\n",
      "\tDecanoic Acid: \u001b[1;31;40m FAILED \u001b[0m\n",
      "\t\tCurrent: 78.34 Reference: 72.34\n",
      "\tDodecanoic Acid: \u001b[1;31;40m FAILED \u001b[0m\n",
      "\t\tCurrent: 90.34 Reference: 84.34\n",
      "\tRibose: \u001b[1;31;40m FAILED \u001b[0m\n",
      "\t\tCurrent: 197.59 Reference: 221.1\n",
      "\tGalactose: \u001b[1;31;40m FAILED \u001b[0m\n",
      "\t\tCurrent: 231.44 Reference: 267.29\n",
      "\tGlucosamine: \u001b[1;31;40m FAILED \u001b[0m\n",
      "\t\tCurrent: 245.25 Reference: 266.76\n",
      "\n",
      "Testing Esoteric Molecules on Supplementary Materials Page 11\n",
      "\tButanoic Acid: \u001b[1;31;40m FAILED \u001b[0m\n",
      "\t\tCurrent: 42.34 Reference: 50.34\n",
      "\tButanoate (Charged Butanoic Acid): \u001b[1;31;40m FAILED \u001b[0m\n",
      "\t\tCurrent: 42.34 Reference: 36.34\n",
      "\tDisilane: \u001b[1;32;40m PASSED \u001b[0m\n",
      "\n",
      "Testing Molecules on Supplementary Materials Page 10\n",
      "\n",
      "Testing Molecules on Supplementary Materials Page 11\n",
      "\n",
      "Testing Molecules on Supplementary Materials Page 12\n",
      "\n",
      "53 out of 94 passed.\n"
     ]
    }
   ],
   "source": [
    "def Test(molecule):\n",
    "    currval = GetBottcherComplexityFixSymmetry(molecule[0])\n",
    "    if(round(currval,2) == molecule[2]):\n",
    "        print(\"\\t\" + molecule[1] + \": \\033[1;32;40m PASSED \\033[0m\", end=\"\\n\")\n",
    "        return 1\n",
    "    else:\n",
    "        print(\"\\t\" + molecule[1] + \": \\033[1;31;40m FAILED \\033[0m\", end=\"\\n\")\n",
    "        print(\"\\t\\tCurrent: \" + str(round(currval,2)) + \" Reference: \" + str(molecule[2]))\n",
    "        return 0\n",
    "\n",
    "def RunTests():\n",
    "    score = 0\n",
    "    tested = 0\n",
    "    molecules = []\n",
    "\n",
    "    # Worksheet Molecules\n",
    "\n",
    "    # Bottcher Paper Molecules\n",
    "    ## Supplementary Page 3\n",
    "    benzene = (Chem.MolFromSmiles('c1ccccc1'), \"Benzene\", 10.75)\n",
    "    molecules.append(benzene)\n",
    "\n",
    "    toluene = (Chem.MolFromSmiles('CC1=CC=CC=C1'), \"Toluene\", 27.92)\n",
    "    molecules.append(toluene)\n",
    "\n",
    "    pyridine = (Chem.MolFromSmiles('C1=CC=NC=C1'), \"Pyridine\", 32.91)\n",
    "    molecules.append(pyridine)\n",
    "\n",
    "    pyrrole = (Chem.MolFromSmiles('C1=CNC=C1'), \"Pyrrole\", 28.15)\n",
    "    molecules.append(pyrrole)\n",
    "\n",
    "    #furan = (Chem.MolFromSmiles('C1=COC=C1'), \"Furan\", 28.6)\n",
    "    #molecules.append(furan)\n",
    "\n",
    "    azete = (Chem.MolFromSmiles('C1=CN=C1'), \"Azete\", 25.7)\n",
    "    molecules.append(azete)\n",
    "\n",
    "    _1h_azirine = (Chem.MolFromSmiles('C1=CN1'), \"1H-Azirine\", 20.98)\n",
    "    molecules.append(_1h_azirine)\n",
    "\n",
    "    chlorobenzene = (Chem.MolFromSmiles('C1=CC=C(C=C1)Br'), \"Chlorobenzene\", 39.54)\n",
    "    molecules.append(chlorobenzene)\n",
    "\n",
    "    bromobenzene = (Chem.MolFromSmiles('C1=CC=C(C=C1)Cl'), \"Bromobenzene\", 39.54)\n",
    "    molecules.append(bromobenzene)\n",
    "\n",
    "    _1_2_dibromobenzene = (Chem.MolFromSmiles('C1=CC=C(C(=C1)Br)Br'), \"1,2-dibromobenzene\", 43.95)\n",
    "    molecules.append(_1_2_dibromobenzene)\n",
    "\n",
    "    _1_3_dibromobenzene = (Chem.MolFromSmiles('C1=CC(=CC(=C1)Br)Br'), \"1,3-dibromobenzene\", 43.95)\n",
    "    molecules.append(_1_3_dibromobenzene)\n",
    "\n",
    "    _1_4_dibromobenzene = (Chem.MolFromSmiles('C1=CC(=CC=C1Br)Br'), \"1,4-dibromobenzene\", 35.95)\n",
    "    molecules.append(_1_4_dibromobenzene)\n",
    "\n",
    "    orthoxylene = (Chem.MolFromSmiles('CC1=CC=CC=C1C'), \"1,2-dimethylbenzene (orthoxylene)\", 28.34)\n",
    "    molecules.append(orthoxylene)\n",
    "\n",
    "    metaxylene = (Chem.MolFromSmiles('CC1=CC(=CC=C1)C'), \"1,3-dimethylbenzene (metaxylene)\", 28.34)\n",
    "    molecules.append(metaxylene)\n",
    "\n",
    "    paraxylene = (Chem.MolFromSmiles('CC1=CC=C(C=C1)C'), \"1,4-dimethylbenzene (paraxylene)\", 24.34)\n",
    "    molecules.append(paraxylene)\n",
    "\n",
    "    _1_bromo_2_chlorobenzene = (Chem.MolFromSmiles('C1=CC=C(c(=C1)Cl)Br'), \"1-bromo-2-chlorobenzene\", 87.91)\n",
    "    molecules.append(_1_bromo_2_chlorobenzene)\n",
    "\n",
    "    _1_bromo_3_chlorobenzene = (Chem.MolFromSmiles('C1=CC(=CC(=C1)Br)Cl'), \"1-bromo-3-chlorobenzene\", 87.91)\n",
    "    molecules.append(_1_bromo_3_chlorobenzene)\n",
    "\n",
    "    _1_bromo_4_chlorobenzene = (Chem.MolFromSmiles('C1=CC(=CC=C1Cl)Br'), \"1-bromo-4-chlorobenzene\", 57.57)\n",
    "    molecules.append(_1_bromo_4_chlorobenzene)\n",
    "\n",
    "\n",
    "\n",
    "    ## Supplementary Page 4\n",
    "    _2_methylbutane = (Chem.MolFromSmiles('CC(C)CC'), \"2-methylbutane\", 17.17)\n",
    "    molecules.append(_2_methylbutane)\n",
    "\n",
    "    pentane = (Chem.MolFromSmiles('CCCCC'), \"Pentane\", 11)\n",
    "    molecules.append(pentane)\n",
    "\n",
    "    _2_2_dimethylpropane = (Chem.MolFromSmiles('CC(C)(C)C'), \"2,2-dimethylpropane\", 8.00)\n",
    "    molecules.append(_2_2_dimethylpropane)\n",
    "\n",
    "    cyclopentane = (Chem.MolFromSmiles('C1CCCC1'), \"Cyclopentane\", 7.50)\n",
    "    molecules.append(cyclopentane)\n",
    "\n",
    "    ethylcyclopropane = (Chem.MolFromSmiles('CCC1CC1'), \"ethylcyclopropane\", 21.17)\n",
    "    molecules.append(ethylcyclopropane)\n",
    "\n",
    "    methylcyclobutane = (Chem.MolFromSmiles('CC1CCC1'), \"methylcyclobutane\", 18.17)\n",
    "    molecules.append(methylcyclobutane)\n",
    "\n",
    "    _1_2_dimethylcyclopropane = (Chem.MolFromSmiles('CC1CC1C'), \"1,2-dimethylcyclopropane\", 15.75)\n",
    "    molecules.append(_1_2_dimethylcyclopropane)\n",
    "\n",
    "    _1_1_dimethylpropane = (Chem.MolFromSmiles('C(C)(C)CC'), \"1,1-dimethylpropane\", 16.00)\n",
    "    molecules.append(_1_1_dimethylpropane)\n",
    "\n",
    "    housane = (Chem.MolFromSmiles('C1CC2C1C2'), \"Bicyclo[2.1.0]pentane (housane)\", 19.75)\n",
    "    molecules.append(housane)\n",
    "\n",
    "\n",
    "\n",
    "    ## Supplementary Page 5\n",
    "    ethane = (Chem.MolFromSmiles('CC'), \"Ethane\", 2)\n",
    "    molecules.append(ethane)\n",
    "\n",
    "    propane = (Chem.MolFromSmiles('CCC'), \"Propane\", 5)\n",
    "    molecules.append(propane)\n",
    "\n",
    "    butane = (Chem.MolFromSmiles('CCCC'), \"Butane\", 8)\n",
    "    molecules.append(butane)\n",
    "\n",
    "    _2_methylpropane = (Chem.MolFromSmiles('CC(C)C'), \"2-methylpropane\", 6.58)\n",
    "    molecules.append(_2_methylpropane)\n",
    "\n",
    "    # 2-methylbutane tested in previous section\n",
    "    # \n",
    "\n",
    "    # n-pentane tested in previous section\n",
    "    #\n",
    "\n",
    "    # 2,2-dimethylpropane tested in previous section\n",
    "    #\n",
    "\n",
    "    _2_methylpentane = (Chem.MolFromSmiles('CC(C)CCC'), \"2-methylpentane\", 23.17)\n",
    "    molecules.append(_2_methylpentane)\n",
    "\n",
    "    _2_2_dimethylbutane = (Chem.MolFromSmiles('CC(C)(C)CC'), \"2,2-dimethylbutane\", 19.00)\n",
    "    molecules.append(_2_2_dimethylbutane)\n",
    "\n",
    "    _3_methylpentane = (Chem.MolFromSmiles('CCC(C)CC'), \"3-methylpentane\", 17.17)\n",
    "    molecules.append(_3_methylpentane)\n",
    "\n",
    "    hexane = (Chem.MolFromSmiles('CCCCCC'), \"Hexane\", 14)\n",
    "    molecules.append(hexane)\n",
    "\n",
    "    _2_3_dimethylbutane = (Chem.MolFromSmiles('CC(C)C(C)C'), \"2,3-dimethylbutane\", 11.17)\n",
    "    molecules.append(_2_3_dimethylbutane)\n",
    "\n",
    "    _2_3_dimethylpentane = (Chem.MolFromSmiles('CC(C)C(C)CC'), \"2,3-dimethylpentane\", 46.26)\n",
    "    molecules.append(_2_3_dimethylpentane)\n",
    "\n",
    "    _3_methylhexane = (Chem.MolFromSmiles('CCC(C)CCC'), \"3-methylhexane\", 45.51)\n",
    "    molecules.append(_3_methylhexane)\n",
    "\n",
    "    _2_methylhexane = (Chem.MolFromSmiles('CC(C)CCCC'), \"2-methylhexane\", 29.17)\n",
    "    molecules.append(_2_methylhexane)\n",
    "\n",
    "    _2_2_dimethylpentane = (Chem.MolFromSmiles('CC(C)(C)CCC'), \"2,2-dimethylpentane\", 25.00)\n",
    "    molecules.append(_2_2_dimethylpentane)\n",
    "\n",
    "    _2_2_3_trimethylpentane = (Chem.MolFromSmiles('CC(C)(C)C(C)CC'), \"2,2,3-trimethylpentane\", 20.17)\n",
    "    molecules.append(_2_2_3_trimethylpentane)\n",
    "\n",
    "    _3_3_dimethylpentane = (Chem.MolFromSmiles('CCC(C)(C)CC'), \"3,3-dimethylpentane\", 18.00)\n",
    "    molecules.append(_3_3_dimethylpentane)\n",
    "\n",
    "    heptane = (Chem.MolFromSmiles('CCCCCCC'), \"Heptane\", 17)\n",
    "    molecules.append(heptane)\n",
    "\n",
    "    _3_ethylpentane = (Chem.MolFromSmiles('CCC(CC)CC'), \"3-ethylpentane\", 15.58)\n",
    "    molecules.append(_3_ethylpentane)\n",
    "\n",
    "    _2_4_dimethylpentane = (Chem.MolFromSmiles('CC(C)CC(C)C'), \"2,4-dimethylpentane\", 14.17)\n",
    "    molecules.append(_2_4_dimethylpentane)\n",
    "\n",
    "\n",
    "\n",
    "    ## Supplementary Page 6\n",
    "    # Methane is undefined\n",
    "    #\n",
    "\n",
    "    # Ethane tested in previous section\n",
    "    #\n",
    "\n",
    "    # n-Propane tested in previous section\n",
    "    #\n",
    "\n",
    "    # n-Butane tested in previous section\n",
    "    #\n",
    "\n",
    "    # n-Pentane tested in previous section\n",
    "    #\n",
    "\n",
    "    # n-Hexane tested in previous section\n",
    "    #\n",
    "\n",
    "    ethylene = (Chem.MolFromSmiles('C=C'), \"Ethylene\", 3.00)\n",
    "    molecules.append(ethylene)\n",
    "\n",
    "    propylene = (Chem.MolFromSmiles('CC=C'), \"Propylene\", 12.17)\n",
    "    molecules.append(propylene)\n",
    "\n",
    "    _1_butene = (Chem.MolFromSmiles('C=CCC'), \"1-butene\", 18.17)\n",
    "    molecules.append(_1_butene)\n",
    "\n",
    "    methanol = (Chem.MolFromSmiles('CO'), \"Methanol\", 9.17)\n",
    "    molecules.append(methanol)\n",
    "\n",
    "    ethanol = (Chem.MolFromSmiles('CCO'), \"Ethanol\", 19.17)\n",
    "    molecules.append(ethanol)\n",
    "\n",
    "    _1_propanol = (Chem.MolFromSmiles('C(O)CC'), \"1-propanol\", 25.17)\n",
    "    molecules.append(_1_propanol)\n",
    "\n",
    "    _2_propanol = (Chem.MolFromSmiles('CC(O)C'), \"2-propanol\", 21.51)\n",
    "    molecules.append(_2_propanol)\n",
    "\n",
    "    acetone = (Chem.MolFromSmiles('CC(=O)C'), \"Acetone\", 25.17)\n",
    "    molecules.append(acetone)\n",
    "\n",
    "    acetaldehyde = (Chem.MolFromSmiles('CC=O'), \"Acetaldehyde\", 23.51)\n",
    "    molecules.append(acetaldehyde)\n",
    "\n",
    "    propanal = (Chem.MolFromSmiles('CCC=O'), \"Propanal\", 29.51)\n",
    "    molecules.append(propanal)\n",
    "\n",
    "    dimethyl_ether = (Chem.MolFromSmiles('COC'), \"Dimethyl Ether\", 11.17)\n",
    "    molecules.append(dimethyl_ether)\n",
    "\n",
    "    acetylene = (Chem.MolFromSmiles('C#C'), \"Acetylene\", 3.58)\n",
    "    molecules.append(acetylene)\n",
    "\n",
    "\n",
    "\n",
    "    ## Supplementary Page 7\n",
    "    # _2_methylbutane tested in previous section\n",
    "    #\n",
    "\n",
    "    # n-pentane tested in previous section\n",
    "    #\n",
    "\n",
    "    # _2_2_dimethylpropane tested in previous section\n",
    "    #\n",
    "\n",
    "    _3_methylheptane = (Chem.MolFromSmiles('CCC(C)CCCC'), \"2-methylheptane\", 51.51)\n",
    "    molecules.append(_3_methylheptane)\n",
    "\n",
    "    _2_methylheptane = (Chem.MolFromSmiles('CC(C)CCCCC'), \"3-methylheptane\", 35.17)\n",
    "    molecules.append(_2_methylheptane)\n",
    "\n",
    "    # _2_3_3_trimethylpentane tested in previous section\n",
    "    #\n",
    "\n",
    "    _2_2_dimethylhexane = (Chem.MolFromSmiles('CC(C)(C)CCCC'), \"2,2-dimethylhexane\", 31.00)\n",
    "    molecules.append(_2_2_dimethylhexane)\n",
    "\n",
    "    _3_ethylhexane = (Chem.MolFromSmiles('CCC(CC)CCC'), \"3-ethylhexane\", 29.17)\n",
    "    molecules.append(_3_ethylhexane)\n",
    "\n",
    "    _4_methylheptane = (Chem.MolFromSmiles('CCCC(C)CCC'), \"4-methylheptane\", 23.17)\n",
    "    molecules.append(_2_methylheptane)\n",
    "\n",
    "    octane = (Chem.MolFromSmiles('CCCCCCCC'), \"Octane\", 20.00)\n",
    "    molecules.append(octane)\n",
    "\n",
    "    _2_5_dimethylhexane = (Chem.MolFromSmiles('CC(C)CCC(C)C'), \"2,5-dimethylhexane\", 17.17)\n",
    "    molecules.append(_2_5_dimethylhexane)\n",
    "\n",
    "    _2_2_3_3_tetramethylbutane = (Chem.MolFromSmiles('CC(C)(C)C(C)(C)C'), \"2,2,3,3-tetramethylbutane\", 14.00)\n",
    "    molecules.append(_2_2_3_3_tetramethylbutane)\n",
    "\n",
    "\n",
    "\n",
    "    ## Supplementary Page 8\n",
    "    alanine = (Chem.MolFromSmiles('C[C@@H](C(=O)O)N'), \"Alanine\", 72.00)\n",
    "    molecules.append(alanine)\n",
    "\n",
    "    arginine = (Chem.MolFromSmiles('C(C[C@@H](C(=O)O)N)CN=C(N)N'), \"Arginine\", 129.65)\n",
    "    molecules.append(arginine)\n",
    "\n",
    "    asparagine = (Chem.MolFromSmiles('C([C@@H](C(=O)O)N)C(=O)N'), \"Asparagine\", 123.82)\n",
    "    molecules.append(asparagine)\n",
    "\n",
    "    aspartate = (Chem.MolFromSmiles('C([C@@H](C(=O)O)N)C(=O)O'), \"Aspartate\", 98.34)\n",
    "    molecules.append(aspartate)\n",
    "\n",
    "    cystine = (Chem.MolFromSmiles('C(C(C(=O)O)N)SSCC(C(=O)O)N'), \"Cystine\", 87.17)\n",
    "    molecules.append(cystine)\n",
    "\n",
    "    glutamine = (Chem.MolFromSmiles('C(CC(=O)N)[C@@H](C(=O)O)N'), \"Glutamine\", 129.82)\n",
    "    molecules.append(glutamine)\n",
    "\n",
    "    glutamate = (Chem.MolFromSmiles('C(CC(=O)O)[C@@H](C(=O)O)N'), \"Glutamate\", 104.34)\n",
    "    molecules.append(glutamate)\n",
    "\n",
    "    glycine = (Chem.MolFromSmiles('C(C(=O)O)N'), \"Glycine\", 38.98)\n",
    "    molecules.append(glycine)\n",
    "\n",
    "    histidine = (Chem.MolFromSmiles('C1=C(NC=N1)C[C@@H](C(=O)O)N'), \"Histidine\", 157.83)\n",
    "    molecules.append(histidine)\n",
    "\n",
    "    isoleucine = (Chem.MolFromSmiles('CC[C@H](C)[C@@H](C(=O)O)N'), \"Isoleucine\", 101.51)\n",
    "    molecules.append(isoleucine)\n",
    "\n",
    "    leucine = (Chem.MolFromSmiles('CC(C)C[C@@H](C(=O)O)N'), \"Leucine\", 90.76)\n",
    "    molecules.append(leucine)\n",
    "\n",
    "    lysine = (Chem.MolFromSmiles('C(CCN)C[C@@H](C(=O)O)N'), \"Lysine\", 104.65)\n",
    "    molecules.append(lysine)\n",
    "\n",
    "    methionine = (Chem.MolFromSmiles('CSCC[C@@H](C(=O)O)N'), \"Methionine\", 106.34)\n",
    "    molecules.append(methionine)\n",
    "\n",
    "    phenylalanine = (Chem.MolFromSmiles('C1=CC=C(C=C1)C[C@@H](C(=O)O)N'), \"Phenylalanine\", 101.93)\n",
    "    molecules.append(phenylalanine)\n",
    "\n",
    "    proline = (Chem.MolFromSmiles('C1CC(NC1)C(=O)O'), \"Proline\", 104.16)\n",
    "    molecules.append(proline)\n",
    "\n",
    "    serine = (Chem.MolFromSmiles('C([C@@H](C(=O)O)N)O'), \"Serine\", 87.17)\n",
    "    molecules.append(serine)\n",
    "\n",
    "    threonine = (Chem.MolFromSmiles('C[C@H]([C@@H](C(=O)O)N)O'), \"Threonine\", 120.19)\n",
    "    molecules.append(threonine)\n",
    "\n",
    "    tryptophan = (Chem.MolFromSmiles('C1=CC=C2C(=C1)C(=CN2)C[C@@H](C(=O)O)N'), \"Tryptophan\", 180.31)\n",
    "    molecules.append(tryptophan)\n",
    "\n",
    "    tyrosine = (Chem.MolFromSmiles('C1=CC(=CC=C1C[C@@H](C(=O)O)N)O'), \"Tyrosine\", 119.51)\n",
    "    molecules.append(tyrosine)\n",
    "\n",
    "    valine = (Chem.MolFromSmiles('CC(C)[C@@H](C(=O)O)N'), \"Valine\", 84.76)\n",
    "    molecules.append(valine)\n",
    "\n",
    "    hexanoic_acid = (Chem.MolFromSmiles('CCCCCC(=O)O'), \"Hexanoic Acid\", 48.34)\n",
    "    molecules.append(hexanoic_acid)\n",
    "\n",
    "    octanoic_acid = (Chem.MolFromSmiles('CCCCCCCC(=O)O'), \"Octanoic Acid\", 60.34)\n",
    "    molecules.append(octanoic_acid)\n",
    "\n",
    "    decanoic_acid = (Chem.MolFromSmiles('CCCCCCCCCC(=O)O'), \"Decanoic Acid\", 72.34)\n",
    "    molecules.append(decanoic_acid)\n",
    "\n",
    "    dodecanoic_acid = (Chem.MolFromSmiles('CCCCCCCCCCCC(=O)O'), \"Dodecanoic Acid\", 84.34)\n",
    "    molecules.append(dodecanoic_acid)\n",
    "\n",
    "    ribose = (Chem.MolFromSmiles('C1[C@H]([C@H]([C@H](C(O1)O)O)O)O'), \"Ribose\", 221.10)\n",
    "    molecules.append(ribose)\n",
    "\n",
    "    galactose = (Chem.MolFromSmiles('C([C@@H]1[C@@H]([C@@H]([C@H](C(O1)O)O)O)O)O'), \"Galactose\", 267.29)\n",
    "    molecules.append(galactose)\n",
    "\n",
    "    glucosamine = (Chem.MolFromSmiles('C([C@@H]1[C@H]([C@@H]([C@H](C(O1)O)N)O)O)O'), \"Glucosamine\", 266.76)\n",
    "    molecules.append(glucosamine)\n",
    "\n",
    "\n",
    "\n",
    "    ## Supplementary Page 11\n",
    "    butanoic_acid = (Chem.MolFromSmiles('CCCC(=O)O'), \"Butanoic Acid\", 50.34)\n",
    "    molecules.append(butanoic_acid)\n",
    "\n",
    "    charged_butanoic_acid = (Chem.MolFromSmiles('[O-]C(=O)CCC'), \"Butanoate (Charged Butanoic Acid)\", 36.34)\n",
    "    molecules.append(charged_butanoic_acid)\n",
    "\n",
    "    disilane = (Chem.MolFromSmiles('[SiH3][SiH3]'), \"Disilane\", 2.00)\n",
    "    molecules.append(disilane)\n",
    "\n",
    "    # Commented out due to explicit valence error\n",
    "    #diborane = (Chem.MolFromSmiles('[BH2]1[H][BH2][H]1'), \"Diborane\", 3.58)\n",
    "    #molecules.append(diborane)\n",
    "\n",
    "\n",
    "    ## Supplementary Page 12\n",
    "\n",
    "    ## Zarko's Spreadsheet\n",
    "\n",
    "    #pyrrole_spreadsheet  = Chem.MolFromSmiles('')\n",
    "    #molecules.append()\n",
    "\n",
    "\n",
    "    print(\"Testing Molecules on Supplementary Materials Page 3\")\n",
    "    for molecule in molecules[0:17]:\n",
    "        score += Test(molecule)\n",
    "        tested += 1\n",
    "\n",
    "    print(\"\\nTesting Molecules on Supplementary Materials Page 4\")\n",
    "    for molecule in molecules[17:26]:\n",
    "        score += Test(molecule)\n",
    "        tested += 1\n",
    "\n",
    "    print(\"\\nTesting Molecules on Supplementary Materials Page 5\")\n",
    "    for molecule in molecules[26:44]:\n",
    "        score += Test(molecule)\n",
    "        tested += 1\n",
    "\n",
    "    print(\"\\nTesting Molecules on Supplementary Materials Page 6\")\n",
    "    for molecule in molecules[44:56]:\n",
    "        score += Test(molecule)\n",
    "        tested += 1\n",
    "\n",
    "    print(\"\\nTesting Molecules on Supplementary Materials Page 7\")\n",
    "    for molecule in molecules[56:64]:\n",
    "        score += Test(molecule)\n",
    "        tested += 1\n",
    "\n",
    "    print(\"\\nTesting Molecules on Supplementary Materials Page 8\")\n",
    "    for molecule in molecules[64:91]:\n",
    "        score += Test(molecule)\n",
    "        tested += 1\n",
    "\n",
    "    print(\"\\nTesting Esoteric Molecules on Supplementary Materials Page 11\")\n",
    "    for molecule in molecules[91:94]:\n",
    "        score += Test(molecule)\n",
    "        tested += 1\n",
    "        \n",
    "    # for molecule in molecules[]\n",
    "    print(\"\\nTesting Molecules on Supplementary Materials Page 10\")\n",
    "    print(\"\\nTesting Molecules on Supplementary Materials Page 11\")\n",
    "    print(\"\\nTesting Molecules on Supplementary Materials Page 12\")\n",
    "\n",
    "    print(\"\\n\" + str(score) + \" out of \" + str(tested) + \" passed.\")\n",
    "\n",
    "RunTests()\n",
    "\n",
    "\n",
    "# Bottcher Paper Values"
   ]
  },
  {
   "cell_type": "code",
   "execution_count": 16,
   "metadata": {
    "autoscroll": false,
    "collapsed": false,
    "ein.hycell": false,
    "ein.tags": "worksheet-0",
    "slideshow": {
     "slide_type": "-"
    }
   },
   "outputs": [
    {
     "data": {
      "image/png": "[encoded data removed]",
      "text/plain": [
       "<PIL.Image.Image image mode=RGBA size=300x300 at 0x1A1AF481D0>"
      ]
     },
     "execution_count": 16,
     "metadata": {},
     "output_type": "execute_result"
    }
   ],
   "source": [
    "Draw.MolToImage(Chem.MolFromSmiles('C1=CC=NC=C1'))"
   ]
  },
  {
   "cell_type": "code",
   "execution_count": 22,
   "metadata": {
    "autoscroll": false,
    "collapsed": false,
    "ein.hycell": false,
    "ein.tags": "worksheet-0",
    "slideshow": {
     "slide_type": "-"
    }
   },
   "outputs": [
    {
     "name": "stdout",
     "output_type": "stream",
     "text": [
      "FULL ATOMS\n",
      "C\n",
      "\tSymmetry Class: 0\n",
      "\tCurrent Parameter Values:\n",
      "\t\td_sub_i: 2\n",
      "\t\te_sub_i: 1\n",
      "\t\ts_sub_i: 1\n",
      "\t\tV_sub_i: 4\n",
      "\t\tb_sub_i: 3\n",
      "C\n",
      "\tSymmetry Class: 1\n",
      "\tCurrent Parameter Values:\n",
      "\t\td_sub_i: 2\n",
      "\t\te_sub_i: 1\n",
      "\t\ts_sub_i: 1\n",
      "\t\tV_sub_i: 4\n",
      "\t\tb_sub_i: 3\n",
      "C\n",
      "\tSymmetry Class: 2\n",
      "\tCurrent Parameter Values:\n",
      "\t\td_sub_i: 2\n",
      "\t\te_sub_i: 2\n",
      "\t\ts_sub_i: 1\n",
      "\t\tV_sub_i: 4\n",
      "\t\tb_sub_i: 3\n",
      "N\n",
      "\tSymmetry Class: 3\n",
      "\tCurrent Parameter Values:\n",
      "\t\td_sub_i: 2\n",
      "\t\te_sub_i: 2\n",
      "\t\ts_sub_i: 1\n",
      "\t\tV_sub_i: 5\n",
      "\t\tb_sub_i: 2\n",
      "Current Complexity Score: 41.9674123853187\n"
     ]
    }
   ],
   "source": [
    "GetBottcherComplexityFixSymmetry(Chem.MolFromSmiles('C1=CC=NC=C1'), True)"
   ]
  },
  {
   "cell_type": "code",
   "execution_count": 18,
   "metadata": {
    "autoscroll": false,
    "collapsed": false,
    "ein.hycell": false,
    "ein.tags": "worksheet-0",
    "slideshow": {
     "slide_type": "-"
    }
   },
   "outputs": [
    {
     "data": {
      "image/png": "[encoded data removed]",
      "text/plain": [
       "<PIL.Image.Image image mode=RGBA size=300x300 at 0x1A1AEEA450>"
      ]
     },
     "execution_count": 18,
     "metadata": {},
     "output_type": "execute_result"
    }
   ],
   "source": [
    "Draw.MolToImage(Chem.MolFromSmiles('C=CC'))"
   ]
  },
  {
   "cell_type": "code",
   "execution_count": 21,
   "metadata": {
    "autoscroll": false,
    "collapsed": false,
    "ein.hycell": false,
    "ein.tags": "worksheet-0",
    "slideshow": {
     "slide_type": "-"
    }
   },
   "outputs": [
    {
     "name": "stdout",
     "output_type": "stream",
     "text": [
      "FULL ATOMS\n",
      "C\n",
      "\tSymmetry Class: 1\n",
      "\tCurrent Parameter Values:\n",
      "\t\td_sub_i: 1\n",
      "\t\te_sub_i: 1\n",
      "\t\ts_sub_i: 1\n",
      "\t\tV_sub_i: 4\n",
      "\t\tb_sub_i: 2\n",
      "C\n",
      "\tSymmetry Class: 2\n",
      "\tCurrent Parameter Values:\n",
      "\t\td_sub_i: 2\n",
      "\t\te_sub_i: 1\n",
      "\t\ts_sub_i: 1\n",
      "\t\tV_sub_i: 4\n",
      "\t\tb_sub_i: 3\n",
      "C\n",
      "\tSymmetry Class: 0\n",
      "\tCurrent Parameter Values:\n",
      "\t\td_sub_i: 1\n",
      "\t\te_sub_i: 1\n",
      "\t\ts_sub_i: 1\n",
      "\t\tV_sub_i: 4\n",
      "\t\tb_sub_i: 1\n",
      "Current Complexity Score: 12.169925001442312\n"
     ]
    }
   ],
   "source": [
    "GetBottcherComplexityFixSymmetry(Chem.MolFromSmiles('C=CC'), True)"
   ]
  },
  {
   "cell_type": "code",
   "execution_count": 27,
   "metadata": {
    "autoscroll": false,
    "collapsed": false,
    "ein.hycell": false,
    "ein.tags": "worksheet-0",
    "slideshow": {
     "slide_type": "-"
    }
   },
   "outputs": [
    {
     "data": {
      "image/png": "[encoded data removed]",
      "text/plain": [
       "<PIL.Image.Image image mode=RGBA size=300x300 at 0x1070F2D10>"
      ]
     },
     "execution_count": 27,
     "metadata": {},
     "output_type": "execute_result"
    }
   ],
   "source": [
    "taxol = Chem.MolFromSmiles('CC1=C2[C@H](C(=O)[C@@]3([C@H](C[C@@H]4[C@]([C@H]3[C@@H]([C@@](C2(C)C)(C[C@@H]1OC(=O)[C@@H]([C@H](C5=CC=CC=C5)NC(=O)C6=CC=CC=C6)O)O)OC(=O)C7=CC=CC=C7)(CO4)OC(=O)C)O)C)OC(=O)C')\n",
    "Draw.MolToImage(taxol)"
   ]
  },
  {
   "cell_type": "code",
   "execution_count": 30,
   "metadata": {
    "autoscroll": false,
    "collapsed": false,
    "ein.hycell": false,
    "ein.tags": "worksheet-0",
    "slideshow": {
     "slide_type": "-"
    }
   },
   "outputs": [
    {
     "data": {
      "text/plain": [
       "929.9373499826743"
      ]
     },
     "execution_count": 30,
     "metadata": {},
     "output_type": "execute_result"
    }
   ],
   "source": [
    "GetBottcherComplexityFixSymmetry(taxol)"
   ]
  },
  {
   "cell_type": "code",
   "execution_count": 31,
   "metadata": {
    "autoscroll": false,
    "collapsed": false,
    "ein.hycell": false,
    "ein.tags": "worksheet-0",
    "slideshow": {
     "slide_type": "-"
    }
   },
   "outputs": [
    {
     "data": {
      "image/png": "[encoded data removed]",
      "text/plain": [
       "<PIL.Image.Image image mode=RGBA size=300x300 at 0x1A1BAB1090>"
      ]
     },
     "execution_count": 31,
     "metadata": {},
     "output_type": "execute_result"
    }
   ],
   "source": [
    "vancomycin = Chem.MolFromSmiles('C[C@H]1[C@H]([C@@](C[C@@H](O1)O[C@@H]2[C@H]([C@@H]([C@H](O[C@H]2OC3=C4C=C5C=C3OC6=C(C=C(C=C6)[C@H]([C@H](C(=O)N[C@H](C(=O)N[C@H]5C(=O)N[C@@H]7C8=CC(=C(C=C8)O)C9=C(C=C(C=C9O)O)[C@H](NC(=O)[C@H]([C@@H](C1=CC(=C(O4)C=C1)Cl)O)NC7=O)C(=O)O)CC(=O)N)NC(=O)[C@@H](CC(C)C)NC)O)Cl)CO)O)O)(C)N)O')\n",
    "Draw.MolToImage(vancomycin)"
   ]
  },
  {
   "cell_type": "code",
   "execution_count": 32,
   "metadata": {
    "autoscroll": false,
    "collapsed": false,
    "ein.hycell": false,
    "ein.tags": "worksheet-0",
    "slideshow": {
     "slide_type": "-"
    }
   },
   "outputs": [
    {
     "data": {
      "text/plain": [
       "1832.3401689352047"
      ]
     },
     "execution_count": 32,
     "metadata": {},
     "output_type": "execute_result"
    }
   ],
   "source": [
    "GetBottcherComplexityFixSymmetry(vancomycin)"
   ]
  },
  {
   "cell_type": "code",
   "execution_count": 33,
   "metadata": {
    "autoscroll": false,
    "collapsed": false,
    "ein.hycell": false,
    "ein.tags": "worksheet-0",
    "slideshow": {
     "slide_type": "-"
    }
   },
   "outputs": [
    {
     "data": {
      "image/png": "[encoded data removed]",
      "text/plain": [
       "<PIL.Image.Image image mode=RGBA size=300x300 at 0x107118C90>"
      ]
     },
     "execution_count": 33,
     "metadata": {},
     "output_type": "execute_result"
    }
   ],
   "source": [
    "insulin = Chem.MolFromSmiles('CC[C@H](C)[C@H]1C(=O)N[C@H]2CSSC[C@@H](C(=O)N[C@@H](CSSC[C@@H](C(=O)NCC(=O)N[C@H](C(=O)N[C@H](C(=O)N[C@H](C(=O)N[C@H](C(=O)N[C@H](C(=O)N[C@H](C(=O)N[C@H](C(=O)N[C@H](C(=O)N[C@H](C(=O)N[C@H](C(=O)N[C@@H](CSSC[C@H](NC(=O)[C@@H](NC(=O)[C@@H](NC(=O)[C@@H](NC(=O)[C@@H](NC(=O)[C@@H](NC(=O)[C@@H](NC(=O)[C@@H](NC(=O)[C@@H](NC2=O)CO)CC(C)C)CC3=CC=C(C=C3)O)CCC(=O)N)CC(C)C)CCC(=O)O)CC(=O)N)CC4=CC=C(C=C4)O)C(=O)N[C@@H](CC(=O)N)C(=O)O)C(=O)NCC(=O)N[C@@H](CCC(=O)O)C(=O)N[C@@H](CCCNC(=N)N)C(=O)NCC(=O)N[C@@H](CC5=CC=CC=C5)C(=O)N[C@@H](CC6=CC=CC=C6)C(=O)N[C@@H](CC7=CC=C(C=C7)O)C(=O)N[C@@H]([C@@H](C)O)C(=O)N8CCC[C@H]8C(=O)N[C@@H](CCCCN)C(=O)N[C@@H]([C@@H](C)O)C(=O)O)C(C)C)CC(C)C)CC9=CC=C(C=C9)O)CC(C)C)C)CCC(=O)O)C(C)C)CC(C)C)CC2=CNC=N2)CO)NC(=O)[C@H](CC(C)C)NC(=O)[C@H](CC2=CNC=N2)NC(=O)[C@H](CCC(=O)N)NC(=O)[C@H](CC(=O)N)NC(=O)[C@H](C(C)C)NC(=O)[C@H](CC2=CC=CC=C2)N)C(=O)N[C@H](C(=O)N[C@H](C(=O)N1)CO)[C@@H](C)O)NC(=O)[C@H](CCC(=O)N)NC(=O)[C@H](CCC(=O)O)NC(=O)[C@H](C(C)C)NC(=O)[C@H]([C@@H](C)CC)NC(=O)CN')\n",
    "Draw.MolToImage(insulin)"
   ]
  },
  {
   "cell_type": "code",
   "execution_count": 34,
   "metadata": {
    "autoscroll": false,
    "collapsed": false,
    "ein.hycell": false,
    "ein.tags": "worksheet-0",
    "slideshow": {
     "slide_type": "-"
    }
   },
   "outputs": [
    {
     "data": {
      "text/plain": [
       "6555.0853808953325"
      ]
     },
     "execution_count": 34,
     "metadata": {},
     "output_type": "execute_result"
    }
   ],
   "source": [
    "GetBottcherComplexityFixSymmetry(insulin)"
   ]
  },
  {
   "cell_type": "code",
   "execution_count": 37,
   "metadata": {
    "autoscroll": false,
    "collapsed": false,
    "ein.hycell": false,
    "ein.tags": "worksheet-0",
    "slideshow": {
     "slide_type": "-"
    }
   },
   "outputs": [
    {
     "data": {
      "image/png": "[encoded data removed]",
      "text/plain": [
       "<PIL.Image.Image image mode=RGBA size=300x300 at 0x1A1BAB8D50>"
      ]
     },
     "execution_count": 37,
     "metadata": {},
     "output_type": "execute_result"
    }
   ],
   "source": [
    "polyglycine = Chem.MolFromSmiles('NCC(NCC(NCC(NCC(NCC(NCC(O)=O)=O)=O)=O)=O)=O')\n",
    "Draw.MolToImage(polyglycine)"
   ]
  },
  {
   "cell_type": "code",
   "execution_count": 38,
   "metadata": {
    "autoscroll": false,
    "collapsed": false,
    "ein.hycell": false,
    "ein.tags": "worksheet-0",
    "slideshow": {
     "slide_type": "-"
    }
   },
   "outputs": [
    {
     "data": {
      "text/plain": [
       "387.27189309761826"
      ]
     },
     "execution_count": 38,
     "metadata": {},
     "output_type": "execute_result"
    }
   ],
   "source": [
    "GetBottcherComplexity(polyglycine)"
   ]
  },
  {
   "cell_type": "code",
   "execution_count": 39,
   "metadata": {
    "autoscroll": false,
    "collapsed": false,
    "ein.hycell": false,
    "ein.tags": "worksheet-0",
    "slideshow": {
     "slide_type": "-"
    }
   },
   "outputs": [
    {
     "data": {
      "image/png": "[encoded data removed]",
      "text/plain": [
       "<PIL.Image.Image image mode=RGBA size=300x300 at 0x1A1BAA2FD0>"
      ]
     },
     "execution_count": 39,
     "metadata": {},
     "output_type": "execute_result"
    }
   ],
   "source": [
    "glycine = Chem.MolFromSmiles('NCC(O)=O')\n",
    "Draw.MolToImage(glycine)"
   ]
  },
  {
   "cell_type": "code",
   "execution_count": 42,
   "metadata": {
    "autoscroll": false,
    "collapsed": false,
    "ein.hycell": false,
    "ein.tags": "worksheet-0",
    "slideshow": {
     "slide_type": "-"
    }
   },
   "outputs": [
    {
     "name": "stdout",
     "output_type": "stream",
     "text": [
      "N\n",
      "\tSymmetry Class: 2\n",
      "\tCurrent Parameter Values:\n",
      "\t\td_sub_i: 1\n",
      "\t\te_sub_i: 2\n",
      "\t\ts_sub_i: 1\n",
      "\t\tV_sub_i: 5\n",
      "\t\tb_sub_i: 1\n",
      "C\n",
      "\tSymmetry Class: 0\n",
      "\tCurrent Parameter Values:\n",
      "\t\td_sub_i: 2\n",
      "\t\te_sub_i: 2\n",
      "\t\ts_sub_i: 1\n",
      "\t\tV_sub_i: 4\n",
      "\t\tb_sub_i: 2\n",
      "C\n",
      "\tSymmetry Class: 1\n",
      "\tCurrent Parameter Values:\n",
      "\t\td_sub_i: 2\n",
      "\t\te_sub_i: 2\n",
      "\t\ts_sub_i: 1\n",
      "\t\tV_sub_i: 4\n",
      "\t\tb_sub_i: 4\n",
      "O\n",
      "\tSymmetry Class: 3\n",
      "\tCurrent Parameter Values:\n",
      "\t\td_sub_i: 1\n",
      "\t\te_sub_i: 2\n",
      "\t\ts_sub_i: 1\n",
      "\t\tV_sub_i: 6\n",
      "\t\tb_sub_i: 1\n",
      "O\n",
      "\tSymmetry Class: 4\n",
      "\tCurrent Parameter Values:\n",
      "\t\td_sub_i: 1\n",
      "\t\te_sub_i: 2\n",
      "\t\ts_sub_i: 1\n",
      "\t\tV_sub_i: 6\n",
      "\t\tb_sub_i: 2\n",
      "Current Complexity Score: 44.98370619265935\n"
     ]
    }
   ],
   "source": [
    "GetBottcherComplexity(glycine,True)"
   ]
  },
  {
   "cell_type": "code",
   "execution_count": 41,
   "metadata": {
    "autoscroll": false,
    "collapsed": false,
    "ein.hycell": false,
    "ein.tags": "worksheet-0",
    "slideshow": {
     "slide_type": "-"
    }
   },
   "outputs": [
    {
     "name": "stdout",
     "output_type": "stream",
     "text": [
      "8.609159312907284\n"
     ]
    }
   ],
   "source": [
    "print(str(GetBottcherComplexity(polyglycine)/GetBottcherComplexity(glycine)))"
   ]
  },
  {
   "cell_type": "code",
   "execution_count": 43,
   "metadata": {
    "autoscroll": false,
    "collapsed": false,
    "ein.hycell": false,
    "ein.tags": "worksheet-0",
    "slideshow": {
     "slide_type": "-"
    }
   },
   "outputs": [
    {
     "data": {
      "image/png": "[encoded data removed]",
      "text/plain": [
       "<PIL.Image.Image image mode=RGBA size=300x300 at 0x1A1BABA1D0>"
      ]
     },
     "execution_count": 43,
     "metadata": {},
     "output_type": "execute_result"
    }
   ],
   "source": [
    "zwitterionic_glycine = Chem.MolFromSmiles('[NH3+]CC([O-])=O')\n",
    "Draw.MolToImage(zwitterionic_glycine)"
   ]
  },
  {
   "cell_type": "code",
   "execution_count": 44,
   "metadata": {
    "autoscroll": false,
    "collapsed": false,
    "ein.hycell": false,
    "ein.tags": "worksheet-0",
    "slideshow": {
     "slide_type": "-"
    }
   },
   "outputs": [
    {
     "data": {
      "text/plain": [
       "44.98370619265935"
      ]
     },
     "execution_count": 44,
     "metadata": {},
     "output_type": "execute_result"
    }
   ],
   "source": [
    "GetBottcherComplexityFixSymmetry(zwitterionic_glycine)"
   ]
  },
  {
   "cell_type": "code",
   "execution_count": null,
   "metadata": {
    "autoscroll": false,
    "collapsed": false,
    "ein.hycell": false,
    "ein.tags": "worksheet-0",
    "slideshow": {
     "slide_type": "-"
    }
   },
   "outputs": [],
   "source": []
  }
 ],
 "metadata": {
  "kernelspec": {
   "argv": [
    "/home/zjp/anaconda3/envs/BCFTesting/bin/python",
    "-m",
    "ipykernel_launcher",
    "-f",
    "{connection_file}"
   ],
   "display_name": "Python 3",
   "env": null,
   "interrupt_mode": "signal",
   "language": "python",
   "metadata": null,
   "name": "python3"
  },
  "name": "BottcherComplexity.ipynb"
 },
 "nbformat": 4,
 "nbformat_minor": 2
}
